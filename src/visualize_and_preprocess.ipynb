{
 "cells": [
  {
   "cell_type": "code",
   "execution_count": 1,
   "metadata": {},
   "outputs": [],
   "source": [
    "import numpy as np"
   ]
  },
  {
   "cell_type": "code",
   "execution_count": 2,
   "metadata": {},
   "outputs": [],
   "source": [
    "train_imgs = np.load(\"../input/ukiyoe-train-imgs.npz\")[\"arr_0\"]"
   ]
  },
  {
   "cell_type": "code",
   "execution_count": 3,
   "metadata": {},
   "outputs": [
    {
     "data": {
      "text/plain": [
       "(3158, 224, 224, 3)"
      ]
     },
     "execution_count": 3,
     "metadata": {},
     "output_type": "execute_result"
    }
   ],
   "source": [
    "train_imgs.shape"
   ]
  },
  {
   "cell_type": "code",
   "execution_count": null,
   "metadata": {},
   "outputs": [],
   "source": [
    "train_labels = np.load(\"../input/ukiyoe-train-labels.npz\")[\"arr_0\"]"
   ]
  },
  {
   "cell_type": "code",
   "execution_count": null,
   "metadata": {},
   "outputs": [],
   "source": [
    "train_labels.shape"
   ]
  },
  {
   "cell_type": "code",
   "execution_count": null,
   "metadata": {},
   "outputs": [],
   "source": [
    "test_imgs = np.load(\"../input/ukiyoe-test-imgs.npz\")[\"arr_0\"]"
   ]
  },
  {
   "cell_type": "code",
   "execution_count": null,
   "metadata": {},
   "outputs": [],
   "source": [
    "%matplotlib inline\n",
    "import matplotlib.pyplot as plt"
   ]
  },
  {
   "cell_type": "code",
   "execution_count": null,
   "metadata": {
    "scrolled": false
   },
   "outputs": [],
   "source": [
    "plt.imshow(train_imgs[37])"
   ]
  },
  {
   "cell_type": "code",
   "execution_count": null,
   "metadata": {},
   "outputs": [],
   "source": [
    "np.histogram(train_labels, bins=9)\n"
   ]
  },
  {
   "cell_type": "code",
   "execution_count": null,
   "metadata": {},
   "outputs": [],
   "source": [
    "np.random.shuffle(test_imgs)\n",
    "plt.figure(figsize=(16, 16))\n",
    "for i in range(4):\n",
    "    for j in range(4):\n",
    "        plt.subplot(4, 4, i*4+j+1)\n",
    "        plt.axis(\"off\")\n",
    "        plt.imshow(test_imgs[i*4+j])"
   ]
  },
  {
   "cell_type": "code",
   "execution_count": null,
   "metadata": {},
   "outputs": [],
   "source": [
    "import pandas as pd\n",
    "\n",
    "df = pd.DataFrame(train_labels, columns=['y'])\n",
    "df.index.name = 'id'\n",
    "df.index = df.index + 1\n",
    "df.to_csv('../input/train.csv', float_format='%.5f')"
   ]
  },
  {
   "cell_type": "code",
   "execution_count": null,
   "metadata": {},
   "outputs": [],
   "source": [
    "train_test = np.concatenate([train_imgs, test_imgs], axis=0)"
   ]
  },
  {
   "cell_type": "code",
   "execution_count": null,
   "metadata": {},
   "outputs": [],
   "source": [
    "mean = np.mean(train_test, axis=(0, 1, 2)) \n",
    "mean"
   ]
  },
  {
   "cell_type": "code",
   "execution_count": null,
   "metadata": {},
   "outputs": [],
   "source": [
    "std = np.std(train_test, axis=(0, 1, 2)) \n",
    "std"
   ]
  },
  {
   "cell_type": "code",
   "execution_count": null,
   "metadata": {},
   "outputs": [],
   "source": [
    "# conpare mean+std\n",
    "train_mean = np.mean(train_imgs / 255, axis=(0, 1, 2)) \n",
    "test_mean = np.mean(test_imgs / 255, axis=(0, 1, 2)) \n",
    "train_std = np.std(train_imgs / 255, axis=(0, 1, 2)) \n",
    "test_std = np.std(test_imgs / 255, axis=(0, 1, 2)) \n",
    "print(\"train_mean: \", train_mean, \"test_mean: \", test_mean,)\n",
    "print(\"train_std: \", train_std, \"test_std: \", test_std,)"
   ]
  },
  {
   "cell_type": "code",
   "execution_count": null,
   "metadata": {},
   "outputs": [],
   "source": [
    "from sklearn.model_selection import train_test_split\n",
    "from sklearn.metrics import roc_auc_score\n",
    "from sklearn.model_selection import StratifiedKFold\n",
    "def stratified_groups_kfold(df, target, n_splits=5, random_state=0):\n",
    "    all_groups = pd.Series(df[target])\n",
    "    if n_splits > 1:\n",
    "        folds = StratifiedKFold(n_splits=n_splits, shuffle=True, random_state=random_state)\n",
    "        for idx_tr, idx_val in folds.split(all_groups, all_groups):\n",
    "            idx_tr_new = df.iloc[idx_tr]\n",
    "            idx_val_new = df.iloc[idx_val]\n",
    "            print(len(idx_tr_new),  len(idx_val_new))\n",
    "            yield idx_tr_new, idx_val_new\n",
    "    else:\n",
    "        idx_tr_new, idx_val_new = train_test_split(df, random_state=random_state, stratify=df[target], test_size=0.1)\n",
    "        yield idx_tr_new, idx_val_new"
   ]
  },
  {
   "cell_type": "code",
   "execution_count": null,
   "metadata": {},
   "outputs": [],
   "source": [
    "for tr_new, val_new in stratified_groups_kfold(df, \"y\"):\n",
    "    print(len(val_new.index.values))"
   ]
  },
  {
   "cell_type": "code",
   "execution_count": null,
   "metadata": {},
   "outputs": [],
   "source": [
    "df"
   ]
  },
  {
   "cell_type": "code",
   "execution_count": null,
   "metadata": {},
   "outputs": [],
   "source": []
  }
 ],
 "metadata": {
  "kernelspec": {
   "display_name": "Python 3",
   "language": "python",
   "name": "python3"
  },
  "language_info": {
   "codemirror_mode": {
    "name": "ipython",
    "version": 3
   },
   "file_extension": ".py",
   "mimetype": "text/x-python",
   "name": "python",
   "nbconvert_exporter": "python",
   "pygments_lexer": "ipython3",
   "version": "3.6.4"
  }
 },
 "nbformat": 4,
 "nbformat_minor": 2
}
